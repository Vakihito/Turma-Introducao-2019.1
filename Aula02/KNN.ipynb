{
 "cells": [
  {
   "cell_type": "markdown",
   "metadata": {},
   "source": [
    "# Carregando os dados\n",
    "\n",
    "Usaremos o data set do Iris para fazer nossas predições"
   ]
  },
  {
   "cell_type": "code",
   "execution_count": 1,
   "metadata": {},
   "outputs": [
    {
     "data": {
      "text/plain": [
       "[['5.1', '3.5', '1.4', '0.2', 'Iris-setosa'],\n",
       " ['4.9', '3.0', '1.4', '0.2', 'Iris-setosa'],\n",
       " ['4.7', '3.2', '1.3', '0.2', 'Iris-setosa'],\n",
       " ['4.6', '3.1', '1.5', '0.2', 'Iris-setosa'],\n",
       " ['5.0', '3.6', '1.4', '0.2', 'Iris-setosa'],\n",
       " ['5.4', '3.9', '1.7', '0.4', 'Iris-setosa'],\n",
       " ['4.6', '3.4', '1.4', '0.3', 'Iris-setosa'],\n",
       " ['5.0', '3.4', '1.5', '0.2', 'Iris-setosa'],\n",
       " ['4.4', '2.9', '1.4', '0.2', 'Iris-setosa'],\n",
       " ['4.9', '3.1', '1.5', '0.1', 'Iris-setosa'],\n",
       " ['5.4', '3.7', '1.5', '0.2', 'Iris-setosa'],\n",
       " ['4.8', '3.4', '1.6', '0.2', 'Iris-setosa'],\n",
       " ['4.8', '3.0', '1.4', '0.1', 'Iris-setosa'],\n",
       " ['4.3', '3.0', '1.1', '0.1', 'Iris-setosa'],\n",
       " ['5.8', '4.0', '1.2', '0.2', 'Iris-setosa'],\n",
       " ['5.7', '4.4', '1.5', '0.4', 'Iris-setosa'],\n",
       " ['5.4', '3.9', '1.3', '0.4', 'Iris-setosa'],\n",
       " ['5.1', '3.5', '1.4', '0.3', 'Iris-setosa'],\n",
       " ['5.7', '3.8', '1.7', '0.3', 'Iris-setosa'],\n",
       " ['5.1', '3.8', '1.5', '0.3', 'Iris-setosa'],\n",
       " ['5.4', '3.4', '1.7', '0.2', 'Iris-setosa'],\n",
       " ['5.1', '3.7', '1.5', '0.4', 'Iris-setosa'],\n",
       " ['4.6', '3.6', '1.0', '0.2', 'Iris-setosa'],\n",
       " ['5.1', '3.3', '1.7', '0.5', 'Iris-setosa'],\n",
       " ['4.8', '3.4', '1.9', '0.2', 'Iris-setosa'],\n",
       " ['5.0', '3.0', '1.6', '0.2', 'Iris-setosa'],\n",
       " ['5.0', '3.4', '1.6', '0.4', 'Iris-setosa'],\n",
       " ['5.2', '3.5', '1.5', '0.2', 'Iris-setosa'],\n",
       " ['5.2', '3.4', '1.4', '0.2', 'Iris-setosa'],\n",
       " ['4.7', '3.2', '1.6', '0.2', 'Iris-setosa'],\n",
       " ['4.8', '3.1', '1.6', '0.2', 'Iris-setosa'],\n",
       " ['5.4', '3.4', '1.5', '0.4', 'Iris-setosa'],\n",
       " ['5.2', '4.1', '1.5', '0.1', 'Iris-setosa'],\n",
       " ['5.5', '4.2', '1.4', '0.2', 'Iris-setosa'],\n",
       " ['4.9', '3.1', '1.5', '0.1', 'Iris-setosa'],\n",
       " ['5.0', '3.2', '1.2', '0.2', 'Iris-setosa'],\n",
       " ['5.5', '3.5', '1.3', '0.2', 'Iris-setosa'],\n",
       " ['4.9', '3.1', '1.5', '0.1', 'Iris-setosa'],\n",
       " ['4.4', '3.0', '1.3', '0.2', 'Iris-setosa'],\n",
       " ['5.1', '3.4', '1.5', '0.2', 'Iris-setosa'],\n",
       " ['5.0', '3.5', '1.3', '0.3', 'Iris-setosa'],\n",
       " ['4.5', '2.3', '1.3', '0.3', 'Iris-setosa'],\n",
       " ['4.4', '3.2', '1.3', '0.2', 'Iris-setosa'],\n",
       " ['5.0', '3.5', '1.6', '0.6', 'Iris-setosa'],\n",
       " ['5.1', '3.8', '1.9', '0.4', 'Iris-setosa'],\n",
       " ['4.8', '3.0', '1.4', '0.3', 'Iris-setosa'],\n",
       " ['5.1', '3.8', '1.6', '0.2', 'Iris-setosa'],\n",
       " ['4.6', '3.2', '1.4', '0.2', 'Iris-setosa'],\n",
       " ['5.3', '3.7', '1.5', '0.2', 'Iris-setosa'],\n",
       " ['5.0', '3.3', '1.4', '0.2', 'Iris-setosa'],\n",
       " ['7.0', '3.2', '4.7', '1.4', 'Iris-versicolor'],\n",
       " ['6.4', '3.2', '4.5', '1.5', 'Iris-versicolor'],\n",
       " ['6.9', '3.1', '4.9', '1.5', 'Iris-versicolor'],\n",
       " ['5.5', '2.3', '4.0', '1.3', 'Iris-versicolor'],\n",
       " ['6.5', '2.8', '4.6', '1.5', 'Iris-versicolor'],\n",
       " ['5.7', '2.8', '4.5', '1.3', 'Iris-versicolor'],\n",
       " ['6.3', '3.3', '4.7', '1.6', 'Iris-versicolor'],\n",
       " ['4.9', '2.4', '3.3', '1.0', 'Iris-versicolor'],\n",
       " ['6.6', '2.9', '4.6', '1.3', 'Iris-versicolor'],\n",
       " ['5.2', '2.7', '3.9', '1.4', 'Iris-versicolor'],\n",
       " ['5.0', '2.0', '3.5', '1.0', 'Iris-versicolor'],\n",
       " ['5.9', '3.0', '4.2', '1.5', 'Iris-versicolor'],\n",
       " ['6.0', '2.2', '4.0', '1.0', 'Iris-versicolor'],\n",
       " ['6.1', '2.9', '4.7', '1.4', 'Iris-versicolor'],\n",
       " ['5.6', '2.9', '3.6', '1.3', 'Iris-versicolor'],\n",
       " ['6.7', '3.1', '4.4', '1.4', 'Iris-versicolor'],\n",
       " ['5.6', '3.0', '4.5', '1.5', 'Iris-versicolor'],\n",
       " ['5.8', '2.7', '4.1', '1.0', 'Iris-versicolor'],\n",
       " ['6.2', '2.2', '4.5', '1.5', 'Iris-versicolor'],\n",
       " ['5.6', '2.5', '3.9', '1.1', 'Iris-versicolor'],\n",
       " ['5.9', '3.2', '4.8', '1.8', 'Iris-versicolor'],\n",
       " ['6.1', '2.8', '4.0', '1.3', 'Iris-versicolor'],\n",
       " ['6.3', '2.5', '4.9', '1.5', 'Iris-versicolor'],\n",
       " ['6.1', '2.8', '4.7', '1.2', 'Iris-versicolor'],\n",
       " ['6.4', '2.9', '4.3', '1.3', 'Iris-versicolor'],\n",
       " ['6.6', '3.0', '4.4', '1.4', 'Iris-versicolor'],\n",
       " ['6.8', '2.8', '4.8', '1.4', 'Iris-versicolor'],\n",
       " ['6.7', '3.0', '5.0', '1.7', 'Iris-versicolor'],\n",
       " ['6.0', '2.9', '4.5', '1.5', 'Iris-versicolor'],\n",
       " ['5.7', '2.6', '3.5', '1.0', 'Iris-versicolor'],\n",
       " ['5.5', '2.4', '3.8', '1.1', 'Iris-versicolor'],\n",
       " ['5.5', '2.4', '3.7', '1.0', 'Iris-versicolor'],\n",
       " ['5.8', '2.7', '3.9', '1.2', 'Iris-versicolor'],\n",
       " ['6.0', '2.7', '5.1', '1.6', 'Iris-versicolor'],\n",
       " ['5.4', '3.0', '4.5', '1.5', 'Iris-versicolor'],\n",
       " ['6.0', '3.4', '4.5', '1.6', 'Iris-versicolor'],\n",
       " ['6.7', '3.1', '4.7', '1.5', 'Iris-versicolor'],\n",
       " ['6.3', '2.3', '4.4', '1.3', 'Iris-versicolor'],\n",
       " ['5.6', '3.0', '4.1', '1.3', 'Iris-versicolor'],\n",
       " ['5.5', '2.5', '4.0', '1.3', 'Iris-versicolor'],\n",
       " ['5.5', '2.6', '4.4', '1.2', 'Iris-versicolor'],\n",
       " ['6.1', '3.0', '4.6', '1.4', 'Iris-versicolor'],\n",
       " ['5.8', '2.6', '4.0', '1.2', 'Iris-versicolor'],\n",
       " ['5.0', '2.3', '3.3', '1.0', 'Iris-versicolor'],\n",
       " ['5.6', '2.7', '4.2', '1.3', 'Iris-versicolor'],\n",
       " ['5.7', '3.0', '4.2', '1.2', 'Iris-versicolor'],\n",
       " ['5.7', '2.9', '4.2', '1.3', 'Iris-versicolor'],\n",
       " ['6.2', '2.9', '4.3', '1.3', 'Iris-versicolor'],\n",
       " ['5.1', '2.5', '3.0', '1.1', 'Iris-versicolor'],\n",
       " ['5.7', '2.8', '4.1', '1.3', 'Iris-versicolor'],\n",
       " ['6.3', '3.3', '6.0', '2.5', 'Iris-virginica'],\n",
       " ['5.8', '2.7', '5.1', '1.9', 'Iris-virginica'],\n",
       " ['7.1', '3.0', '5.9', '2.1', 'Iris-virginica'],\n",
       " ['6.3', '2.9', '5.6', '1.8', 'Iris-virginica'],\n",
       " ['6.5', '3.0', '5.8', '2.2', 'Iris-virginica'],\n",
       " ['7.6', '3.0', '6.6', '2.1', 'Iris-virginica'],\n",
       " ['4.9', '2.5', '4.5', '1.7', 'Iris-virginica'],\n",
       " ['7.3', '2.9', '6.3', '1.8', 'Iris-virginica'],\n",
       " ['6.7', '2.5', '5.8', '1.8', 'Iris-virginica'],\n",
       " ['7.2', '3.6', '6.1', '2.5', 'Iris-virginica'],\n",
       " ['6.5', '3.2', '5.1', '2.0', 'Iris-virginica'],\n",
       " ['6.4', '2.7', '5.3', '1.9', 'Iris-virginica'],\n",
       " ['6.8', '3.0', '5.5', '2.1', 'Iris-virginica'],\n",
       " ['5.7', '2.5', '5.0', '2.0', 'Iris-virginica'],\n",
       " ['5.8', '2.8', '5.1', '2.4', 'Iris-virginica'],\n",
       " ['6.4', '3.2', '5.3', '2.3', 'Iris-virginica'],\n",
       " ['6.5', '3.0', '5.5', '1.8', 'Iris-virginica'],\n",
       " ['7.7', '3.8', '6.7', '2.2', 'Iris-virginica'],\n",
       " ['7.7', '2.6', '6.9', '2.3', 'Iris-virginica'],\n",
       " ['6.0', '2.2', '5.0', '1.5', 'Iris-virginica'],\n",
       " ['6.9', '3.2', '5.7', '2.3', 'Iris-virginica'],\n",
       " ['5.6', '2.8', '4.9', '2.0', 'Iris-virginica'],\n",
       " ['7.7', '2.8', '6.7', '2.0', 'Iris-virginica'],\n",
       " ['6.3', '2.7', '4.9', '1.8', 'Iris-virginica'],\n",
       " ['6.7', '3.3', '5.7', '2.1', 'Iris-virginica'],\n",
       " ['7.2', '3.2', '6.0', '1.8', 'Iris-virginica'],\n",
       " ['6.2', '2.8', '4.8', '1.8', 'Iris-virginica'],\n",
       " ['6.1', '3.0', '4.9', '1.8', 'Iris-virginica'],\n",
       " ['6.4', '2.8', '5.6', '2.1', 'Iris-virginica'],\n",
       " ['7.2', '3.0', '5.8', '1.6', 'Iris-virginica'],\n",
       " ['7.4', '2.8', '6.1', '1.9', 'Iris-virginica'],\n",
       " ['7.9', '3.8', '6.4', '2.0', 'Iris-virginica'],\n",
       " ['6.4', '2.8', '5.6', '2.2', 'Iris-virginica'],\n",
       " ['6.3', '2.8', '5.1', '1.5', 'Iris-virginica'],\n",
       " ['6.1', '2.6', '5.6', '1.4', 'Iris-virginica'],\n",
       " ['7.7', '3.0', '6.1', '2.3', 'Iris-virginica'],\n",
       " ['6.3', '3.4', '5.6', '2.4', 'Iris-virginica'],\n",
       " ['6.4', '3.1', '5.5', '1.8', 'Iris-virginica'],\n",
       " ['6.0', '3.0', '4.8', '1.8', 'Iris-virginica'],\n",
       " ['6.9', '3.1', '5.4', '2.1', 'Iris-virginica'],\n",
       " ['6.7', '3.1', '5.6', '2.4', 'Iris-virginica'],\n",
       " ['6.9', '3.1', '5.1', '2.3', 'Iris-virginica'],\n",
       " ['5.8', '2.7', '5.1', '1.9', 'Iris-virginica'],\n",
       " ['6.8', '3.2', '5.9', '2.3', 'Iris-virginica'],\n",
       " ['6.7', '3.3', '5.7', '2.5', 'Iris-virginica'],\n",
       " ['6.7', '3.0', '5.2', '2.3', 'Iris-virginica'],\n",
       " ['6.3', '2.5', '5.0', '1.9', 'Iris-virginica'],\n",
       " ['6.5', '3.0', '5.2', '2.0', 'Iris-virginica'],\n",
       " ['6.2', '3.4', '5.4', '2.3', 'Iris-virginica'],\n",
       " ['5.9', '3.0', '5.1', '1.8', 'Iris-virginica']]"
      ]
     },
     "execution_count": 1,
     "metadata": {},
     "output_type": "execute_result"
    }
   ],
   "source": [
    "iris = []\n",
    "\n",
    "with open('iris.csv', 'r') as f:\n",
    "    for line in f:\n",
    "        iris.append(line.replace('\\n', '').split(','))\n",
    "\n",
    "iris"
   ]
  },
  {
   "cell_type": "markdown",
   "metadata": {},
   "source": [
    "# Separando em features e labels"
   ]
  },
  {
   "cell_type": "code",
   "execution_count": 2,
   "metadata": {},
   "outputs": [
    {
     "data": {
      "text/plain": [
       "['Iris-setosa',\n",
       " 'Iris-setosa',\n",
       " 'Iris-setosa',\n",
       " 'Iris-setosa',\n",
       " 'Iris-setosa',\n",
       " 'Iris-setosa',\n",
       " 'Iris-setosa',\n",
       " 'Iris-setosa',\n",
       " 'Iris-setosa',\n",
       " 'Iris-setosa',\n",
       " 'Iris-setosa',\n",
       " 'Iris-setosa',\n",
       " 'Iris-setosa',\n",
       " 'Iris-setosa',\n",
       " 'Iris-setosa',\n",
       " 'Iris-setosa',\n",
       " 'Iris-setosa',\n",
       " 'Iris-setosa',\n",
       " 'Iris-setosa',\n",
       " 'Iris-setosa',\n",
       " 'Iris-setosa',\n",
       " 'Iris-setosa',\n",
       " 'Iris-setosa',\n",
       " 'Iris-setosa',\n",
       " 'Iris-setosa',\n",
       " 'Iris-setosa',\n",
       " 'Iris-setosa',\n",
       " 'Iris-setosa',\n",
       " 'Iris-setosa',\n",
       " 'Iris-setosa',\n",
       " 'Iris-setosa',\n",
       " 'Iris-setosa',\n",
       " 'Iris-setosa',\n",
       " 'Iris-setosa',\n",
       " 'Iris-setosa',\n",
       " 'Iris-setosa',\n",
       " 'Iris-setosa',\n",
       " 'Iris-setosa',\n",
       " 'Iris-setosa',\n",
       " 'Iris-setosa',\n",
       " 'Iris-setosa',\n",
       " 'Iris-setosa',\n",
       " 'Iris-setosa',\n",
       " 'Iris-setosa',\n",
       " 'Iris-setosa',\n",
       " 'Iris-setosa',\n",
       " 'Iris-setosa',\n",
       " 'Iris-setosa',\n",
       " 'Iris-setosa',\n",
       " 'Iris-setosa',\n",
       " 'Iris-versicolor',\n",
       " 'Iris-versicolor',\n",
       " 'Iris-versicolor',\n",
       " 'Iris-versicolor',\n",
       " 'Iris-versicolor',\n",
       " 'Iris-versicolor',\n",
       " 'Iris-versicolor',\n",
       " 'Iris-versicolor',\n",
       " 'Iris-versicolor',\n",
       " 'Iris-versicolor',\n",
       " 'Iris-versicolor',\n",
       " 'Iris-versicolor',\n",
       " 'Iris-versicolor',\n",
       " 'Iris-versicolor',\n",
       " 'Iris-versicolor',\n",
       " 'Iris-versicolor',\n",
       " 'Iris-versicolor',\n",
       " 'Iris-versicolor',\n",
       " 'Iris-versicolor',\n",
       " 'Iris-versicolor',\n",
       " 'Iris-versicolor',\n",
       " 'Iris-versicolor',\n",
       " 'Iris-versicolor',\n",
       " 'Iris-versicolor',\n",
       " 'Iris-versicolor',\n",
       " 'Iris-versicolor',\n",
       " 'Iris-versicolor',\n",
       " 'Iris-versicolor',\n",
       " 'Iris-versicolor',\n",
       " 'Iris-versicolor',\n",
       " 'Iris-versicolor',\n",
       " 'Iris-versicolor',\n",
       " 'Iris-versicolor',\n",
       " 'Iris-versicolor',\n",
       " 'Iris-versicolor',\n",
       " 'Iris-versicolor',\n",
       " 'Iris-versicolor',\n",
       " 'Iris-versicolor',\n",
       " 'Iris-versicolor',\n",
       " 'Iris-versicolor',\n",
       " 'Iris-versicolor',\n",
       " 'Iris-versicolor',\n",
       " 'Iris-versicolor',\n",
       " 'Iris-versicolor',\n",
       " 'Iris-versicolor',\n",
       " 'Iris-versicolor',\n",
       " 'Iris-versicolor',\n",
       " 'Iris-versicolor',\n",
       " 'Iris-versicolor',\n",
       " 'Iris-versicolor',\n",
       " 'Iris-virginica',\n",
       " 'Iris-virginica',\n",
       " 'Iris-virginica',\n",
       " 'Iris-virginica',\n",
       " 'Iris-virginica',\n",
       " 'Iris-virginica',\n",
       " 'Iris-virginica',\n",
       " 'Iris-virginica',\n",
       " 'Iris-virginica',\n",
       " 'Iris-virginica',\n",
       " 'Iris-virginica',\n",
       " 'Iris-virginica',\n",
       " 'Iris-virginica',\n",
       " 'Iris-virginica',\n",
       " 'Iris-virginica',\n",
       " 'Iris-virginica',\n",
       " 'Iris-virginica',\n",
       " 'Iris-virginica',\n",
       " 'Iris-virginica',\n",
       " 'Iris-virginica',\n",
       " 'Iris-virginica',\n",
       " 'Iris-virginica',\n",
       " 'Iris-virginica',\n",
       " 'Iris-virginica',\n",
       " 'Iris-virginica',\n",
       " 'Iris-virginica',\n",
       " 'Iris-virginica',\n",
       " 'Iris-virginica',\n",
       " 'Iris-virginica',\n",
       " 'Iris-virginica',\n",
       " 'Iris-virginica',\n",
       " 'Iris-virginica',\n",
       " 'Iris-virginica',\n",
       " 'Iris-virginica',\n",
       " 'Iris-virginica',\n",
       " 'Iris-virginica',\n",
       " 'Iris-virginica',\n",
       " 'Iris-virginica',\n",
       " 'Iris-virginica',\n",
       " 'Iris-virginica',\n",
       " 'Iris-virginica',\n",
       " 'Iris-virginica',\n",
       " 'Iris-virginica',\n",
       " 'Iris-virginica',\n",
       " 'Iris-virginica',\n",
       " 'Iris-virginica',\n",
       " 'Iris-virginica',\n",
       " 'Iris-virginica',\n",
       " 'Iris-virginica',\n",
       " 'Iris-virginica']"
      ]
     },
     "execution_count": 2,
     "metadata": {},
     "output_type": "execute_result"
    }
   ],
   "source": [
    "data = []\n",
    "label = []\n",
    "\n",
    "for line in iris:\n",
    "    data.append([float(x) for x in line[:-1]])\n",
    "    label.append(line[-1])\n",
    "\n",
    "label"
   ]
  },
  {
   "cell_type": "markdown",
   "metadata": {},
   "source": [
    "# Transformando em Numpy "
   ]
  },
  {
   "cell_type": "code",
   "execution_count": 3,
   "metadata": {},
   "outputs": [],
   "source": [
    "import numpy as np"
   ]
  },
  {
   "cell_type": "code",
   "execution_count": 4,
   "metadata": {},
   "outputs": [],
   "source": [
    "data = np.array(data)"
   ]
  },
  {
   "cell_type": "code",
   "execution_count": 5,
   "metadata": {},
   "outputs": [],
   "source": [
    "label = np.array(label)"
   ]
  },
  {
   "cell_type": "code",
   "execution_count": 6,
   "metadata": {},
   "outputs": [],
   "source": [
    "query = np.array([6.2, 3.4, 5.4, 2.3])"
   ]
  },
  {
   "cell_type": "markdown",
   "metadata": {},
   "source": [
    "# Calculando a distância entre a query e todos os outros pontos"
   ]
  },
  {
   "cell_type": "code",
   "execution_count": 7,
   "metadata": {},
   "outputs": [],
   "source": [
    "# Função de distância euclidiana\n",
    "\n",
    "from math import sqrt\n",
    "\n",
    "def eucli(a, b):\n",
    "    return sqrt(sum((a - b) ** 2))"
   ]
  },
  {
   "cell_type": "code",
   "execution_count": 8,
   "metadata": {},
   "outputs": [],
   "source": [
    "dists = np.array([eucli(point, query) for point in data])"
   ]
  },
  {
   "cell_type": "code",
   "execution_count": 9,
   "metadata": {},
   "outputs": [
    {
     "data": {
      "text/plain": [
       "array([4.65080638, 4.71805044, 4.84871117, 4.71911009, 4.67867503,\n",
       "       4.26497362, 4.74973683, 4.58911756, 4.88876262, 4.67225855,\n",
       "       4.51109743, 4.56179789, 4.79165942, 5.20576603, 4.75078941,\n",
       "       4.47995536, 4.61627556, 4.60651712, 4.25440948, 4.53651849,\n",
       "       4.32897216, 4.4855323 , 5.13517283, 4.26028168, 4.3150898 ,\n",
       "       4.52216762, 4.41474801, 4.54202598, 4.62709412, 4.59782557,\n",
       "       4.57165178, 4.411349  , 4.64112055, 4.64112055, 4.67225855,\n",
       "       4.85077313, 4.66047208, 4.67225855, 4.96185449, 4.56398948,\n",
       "       4.71805044, 4.99099189, 4.94974747, 4.33358974, 4.15090352,\n",
       "       4.70319041, 4.49666543, 4.79687398, 4.52990066, 4.67546789,\n",
       "       1.40712473, 1.23693169, 1.21243557, 2.15870331, 1.31529464,\n",
       "       1.55563492, 1.        , 2.96479342, 1.43178211, 2.1330729 ,\n",
       "       2.94957624, 1.52643375, 2.26495033, 1.2489996 , 2.20227155,\n",
       "       1.46628783, 1.40356688, 2.00748599, 1.7       , 2.20454077,\n",
       "       0.86023253, 1.82482876, 1.30766968, 1.43874946, 1.58113883,\n",
       "       1.45945195, 1.37477271, 0.96436508, 1.3190906 , 2.48797106,\n",
       "       2.3430749 , 2.463737  , 2.02731349, 1.05356538, 1.5       ,\n",
       "       1.15758369, 1.21243557, 1.79443584, 1.79164729, 2.06397674,\n",
       "       1.82756669, 1.27279221, 1.99248588, 2.95803989, 1.81383571,\n",
       "       1.74928557, 1.71464282, 1.56843871, 3.03644529, 1.81659021,\n",
       "       0.64807407, 0.9486833 , 1.12249722, 0.74161985, 0.64807407,\n",
       "       1.8973666 , 1.91572441, 1.58745079, 1.21243557, 1.25299641,\n",
       "       0.55677644, 0.83666003, 0.75498344, 1.14455231, 0.78740079,\n",
       "       0.3       , 0.71414284, 2.02731349, 2.26715681, 1.50996689,\n",
       "       0.78740079, 1.02956301, 2.09523268, 1.        , 0.6244998 ,\n",
       "       1.28452326, 0.98488578, 0.81853528, 0.69282032, 1.3453624 ,\n",
       "       1.56524758, 2.03469899, 0.67082039, 1.04880885, 1.22474487,\n",
       "       1.70293864, 0.24494897, 0.6244998 , 0.9       , 0.78740079,\n",
       "       0.6244998 , 0.81853528, 0.9486833 , 0.80622577, 0.6244998 ,\n",
       "       0.67082039, 1.06770783, 0.6164414 , 0.        , 0.76811457])"
      ]
     },
     "execution_count": 9,
     "metadata": {},
     "output_type": "execute_result"
    }
   ],
   "source": [
    "dists"
   ]
  },
  {
   "cell_type": "markdown",
   "metadata": {},
   "source": [
    "# Pontos mais próximos"
   ]
  },
  {
   "cell_type": "code",
   "execution_count": 10,
   "metadata": {},
   "outputs": [],
   "source": [
    "indx = np.argsort(dists)[:3]"
   ]
  },
  {
   "cell_type": "code",
   "execution_count": 11,
   "metadata": {},
   "outputs": [
    {
     "data": {
      "text/plain": [
       "array(['Iris-virginica', 'Iris-virginica', 'Iris-virginica'], dtype='<U15')"
      ]
     },
     "execution_count": 11,
     "metadata": {},
     "output_type": "execute_result"
    }
   ],
   "source": [
    "label[indx]"
   ]
  },
  {
   "cell_type": "markdown",
   "metadata": {},
   "source": [
    "# Vendo a classe mais próxima"
   ]
  },
  {
   "cell_type": "code",
   "execution_count": 12,
   "metadata": {},
   "outputs": [],
   "source": [
    "from collections import Counter"
   ]
  },
  {
   "cell_type": "code",
   "execution_count": 13,
   "metadata": {},
   "outputs": [
    {
     "data": {
      "text/plain": [
       "'Iris-virginica'"
      ]
     },
     "execution_count": 13,
     "metadata": {},
     "output_type": "execute_result"
    }
   ],
   "source": [
    "Counter(label[indx]).most_common(1)[0][0]"
   ]
  },
  {
   "cell_type": "markdown",
   "metadata": {},
   "source": [
    "# Criando uma função que faz a classificação"
   ]
  },
  {
   "cell_type": "code",
   "execution_count": 14,
   "metadata": {},
   "outputs": [],
   "source": [
    "def knn(data, query, k=3):\n",
    "    dists = np.array([eucli(point, query) for point in data])\n",
    "    indx = np.argsort(dists)[:k]\n",
    "    return Counter(label[indx]).most_common(1)[0][0]"
   ]
  },
  {
   "cell_type": "code",
   "execution_count": 15,
   "metadata": {},
   "outputs": [
    {
     "data": {
      "text/plain": [
       "'Iris-virginica'"
      ]
     },
     "execution_count": 15,
     "metadata": {},
     "output_type": "execute_result"
    }
   ],
   "source": [
    "knn(data, query, k=2)"
   ]
  }
 ],
 "metadata": {
  "kernelspec": {
   "display_name": "Python 3",
   "language": "python",
   "name": "python3"
  },
  "language_info": {
   "codemirror_mode": {
    "name": "ipython",
    "version": 3
   },
   "file_extension": ".py",
   "mimetype": "text/x-python",
   "name": "python",
   "nbconvert_exporter": "python",
   "pygments_lexer": "ipython3",
   "version": "3.6.7"
  }
 },
 "nbformat": 4,
 "nbformat_minor": 2
}
